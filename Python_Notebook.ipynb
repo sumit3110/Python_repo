{
 "cells": [
  {
   "cell_type": "code",
   "execution_count": 3,
   "id": "47d4ab8e",
   "metadata": {},
   "outputs": [
    {
     "name": "stdout",
     "output_type": "stream",
     "text": [
      "<zip object at 0x7f18a24ccf80>\n"
     ]
    }
   ],
   "source": [
    "dataset1=['python','java','C++']\n",
    "dataset2=[12,5]\n",
    "result = zip(dataset1,dataset2)\n",
    "print(result)"
   ]
  },
  {
   "cell_type": "code",
   "execution_count": 2,
   "id": "3fe4d5cd",
   "metadata": {},
   "outputs": [
    {
     "name": "stdout",
     "output_type": "stream",
     "text": [
      "[('python', 12), ('java', 5), ('C++', 9)]\n"
     ]
    }
   ],
   "source": [
    "print(list(result))"
   ]
  },
  {
   "cell_type": "code",
   "execution_count": 4,
   "id": "0a72a481",
   "metadata": {},
   "outputs": [
    {
     "name": "stdout",
     "output_type": "stream",
     "text": [
      "[('python', 12), ('java', 5)]\n"
     ]
    }
   ],
   "source": [
    "print(list(result))"
   ]
  },
  {
   "cell_type": "code",
   "execution_count": 6,
   "id": "d79033e2",
   "metadata": {},
   "outputs": [],
   "source": [
    "data = {\"Name\":['Tom','Nick','Crish','Jack'], 'Age':[20,21,19,18]}"
   ]
  },
  {
   "cell_type": "code",
   "execution_count": 7,
   "id": "b645dbdc",
   "metadata": {},
   "outputs": [
    {
     "name": "stdout",
     "output_type": "stream",
     "text": [
      "    Name  Age\n",
      "0    Tom   20\n",
      "1   Nick   21\n",
      "2  Crish   19\n",
      "3   Jack   18\n"
     ]
    }
   ],
   "source": [
    "import pandas as pd\n",
    "dfEmpl = pd.DataFrame(data)\n",
    "print(dfEmpl)\n"
   ]
  },
  {
   "cell_type": "code",
   "execution_count": 8,
   "id": "ae0c87a5",
   "metadata": {},
   "outputs": [
    {
     "ename": "ValueError",
     "evalue": "The truth value of a DataFrame is ambiguous. Use a.empty, a.bool(), a.item(), a.any() or a.all().",
     "output_type": "error",
     "traceback": [
      "\u001b[0;31m---------------------------------------------------------------------------\u001b[0m",
      "\u001b[0;31mValueError\u001b[0m                                Traceback (most recent call last)",
      "Cell \u001b[0;32mIn[8], line 1\u001b[0m\n\u001b[0;32m----> 1\u001b[0m serEmplAge \u001b[38;5;241m=\u001b[39m pd\u001b[38;5;241m.\u001b[39mSeries(dfEmpl)\n",
      "File \u001b[0;32m/opt/anaconda3/lib/python3.11/site-packages/pandas/core/series.py:386\u001b[0m, in \u001b[0;36mSeries.__init__\u001b[0;34m(self, data, index, dtype, name, copy, fastpath)\u001b[0m\n\u001b[1;32m    382\u001b[0m \u001b[38;5;28;01melse\u001b[39;00m:\n\u001b[1;32m    384\u001b[0m     name \u001b[38;5;241m=\u001b[39m ibase\u001b[38;5;241m.\u001b[39mmaybe_extract_name(name, data, \u001b[38;5;28mtype\u001b[39m(\u001b[38;5;28mself\u001b[39m))\n\u001b[0;32m--> 386\u001b[0m     \u001b[38;5;28;01mif\u001b[39;00m is_empty_data(data) \u001b[38;5;129;01mand\u001b[39;00m dtype \u001b[38;5;129;01mis\u001b[39;00m \u001b[38;5;28;01mNone\u001b[39;00m:\n\u001b[1;32m    387\u001b[0m         \u001b[38;5;66;03m# gh-17261\u001b[39;00m\n\u001b[1;32m    388\u001b[0m         warnings\u001b[38;5;241m.\u001b[39mwarn(\n\u001b[1;32m    389\u001b[0m             \u001b[38;5;124m\"\u001b[39m\u001b[38;5;124mThe default dtype for empty Series will be \u001b[39m\u001b[38;5;124m'\u001b[39m\u001b[38;5;124mobject\u001b[39m\u001b[38;5;124m'\u001b[39m\u001b[38;5;124m instead \u001b[39m\u001b[38;5;124m\"\u001b[39m\n\u001b[1;32m    390\u001b[0m             \u001b[38;5;124m\"\u001b[39m\u001b[38;5;124mof \u001b[39m\u001b[38;5;124m'\u001b[39m\u001b[38;5;124mfloat64\u001b[39m\u001b[38;5;124m'\u001b[39m\u001b[38;5;124m in a future version. Specify a dtype explicitly \u001b[39m\u001b[38;5;124m\"\u001b[39m\n\u001b[0;32m   (...)\u001b[0m\n\u001b[1;32m    393\u001b[0m             stacklevel\u001b[38;5;241m=\u001b[39mfind_stack_level(),\n\u001b[1;32m    394\u001b[0m         )\n\u001b[1;32m    395\u001b[0m         \u001b[38;5;66;03m# uncomment the line below when removing the FutureWarning\u001b[39;00m\n\u001b[1;32m    396\u001b[0m         \u001b[38;5;66;03m# dtype = np.dtype(object)\u001b[39;00m\n",
      "File \u001b[0;32m/opt/anaconda3/lib/python3.11/site-packages/pandas/core/construction.py:877\u001b[0m, in \u001b[0;36mis_empty_data\u001b[0;34m(data)\u001b[0m\n\u001b[1;32m    875\u001b[0m is_none \u001b[38;5;241m=\u001b[39m data \u001b[38;5;129;01mis\u001b[39;00m \u001b[38;5;28;01mNone\u001b[39;00m\n\u001b[1;32m    876\u001b[0m is_list_like_without_dtype \u001b[38;5;241m=\u001b[39m is_list_like(data) \u001b[38;5;129;01mand\u001b[39;00m \u001b[38;5;129;01mnot\u001b[39;00m \u001b[38;5;28mhasattr\u001b[39m(data, \u001b[38;5;124m\"\u001b[39m\u001b[38;5;124mdtype\u001b[39m\u001b[38;5;124m\"\u001b[39m)\n\u001b[0;32m--> 877\u001b[0m is_simple_empty \u001b[38;5;241m=\u001b[39m is_list_like_without_dtype \u001b[38;5;129;01mand\u001b[39;00m \u001b[38;5;129;01mnot\u001b[39;00m data\n\u001b[1;32m    878\u001b[0m \u001b[38;5;28;01mreturn\u001b[39;00m is_none \u001b[38;5;129;01mor\u001b[39;00m is_simple_empty\n",
      "File \u001b[0;32m/opt/anaconda3/lib/python3.11/site-packages/pandas/core/generic.py:1527\u001b[0m, in \u001b[0;36mNDFrame.__nonzero__\u001b[0;34m(self)\u001b[0m\n\u001b[1;32m   1525\u001b[0m \u001b[38;5;129m@final\u001b[39m\n\u001b[1;32m   1526\u001b[0m \u001b[38;5;28;01mdef\u001b[39;00m \u001b[38;5;21m__nonzero__\u001b[39m(\u001b[38;5;28mself\u001b[39m) \u001b[38;5;241m-\u001b[39m\u001b[38;5;241m>\u001b[39m NoReturn:\n\u001b[0;32m-> 1527\u001b[0m     \u001b[38;5;28;01mraise\u001b[39;00m \u001b[38;5;167;01mValueError\u001b[39;00m(\n\u001b[1;32m   1528\u001b[0m         \u001b[38;5;124mf\u001b[39m\u001b[38;5;124m\"\u001b[39m\u001b[38;5;124mThe truth value of a \u001b[39m\u001b[38;5;132;01m{\u001b[39;00m\u001b[38;5;28mtype\u001b[39m(\u001b[38;5;28mself\u001b[39m)\u001b[38;5;241m.\u001b[39m\u001b[38;5;18m__name__\u001b[39m\u001b[38;5;132;01m}\u001b[39;00m\u001b[38;5;124m is ambiguous. \u001b[39m\u001b[38;5;124m\"\u001b[39m\n\u001b[1;32m   1529\u001b[0m         \u001b[38;5;124m\"\u001b[39m\u001b[38;5;124mUse a.empty, a.bool(), a.item(), a.any() or a.all().\u001b[39m\u001b[38;5;124m\"\u001b[39m\n\u001b[1;32m   1530\u001b[0m     )\n",
      "\u001b[0;31mValueError\u001b[0m: The truth value of a DataFrame is ambiguous. Use a.empty, a.bool(), a.item(), a.any() or a.all()."
     ]
    }
   ],
   "source": [
    "serEmplAge = pd.Series(dfEmpl)"
   ]
  },
  {
   "cell_type": "code",
   "execution_count": 9,
   "id": "54dfbb14",
   "metadata": {},
   "outputs": [
    {
     "data": {
      "text/plain": [
       "0    20\n",
       "1    21\n",
       "2    19\n",
       "Name: Age, dtype: int64"
      ]
     },
     "execution_count": 9,
     "metadata": {},
     "output_type": "execute_result"
    }
   ],
   "source": [
    "serEmplAge = pd.Series(dfEmpl[\"Age\"])\n",
    "serEmplAge.head(3)"
   ]
  },
  {
   "cell_type": "code",
   "execution_count": 10,
   "id": "950e7a14",
   "metadata": {},
   "outputs": [
    {
     "ename": "SyntaxError",
     "evalue": "invalid syntax (1395121206.py, line 1)",
     "output_type": "error",
     "traceback": [
      "\u001b[0;36m  Cell \u001b[0;32mIn[10], line 1\u001b[0;36m\u001b[0m\n\u001b[0;31m    result serEmplAge.apply(lambda x : 21 if x==19 else x)\u001b[0m\n\u001b[0m           ^\u001b[0m\n\u001b[0;31mSyntaxError\u001b[0m\u001b[0;31m:\u001b[0m invalid syntax\n"
     ]
    }
   ],
   "source": [
    "result serEmplAge.apply(lambda x : 21 if x==19 else x)"
   ]
  },
  {
   "cell_type": "code",
   "execution_count": 12,
   "id": "cf31b81a",
   "metadata": {},
   "outputs": [
    {
     "name": "stdout",
     "output_type": "stream",
     "text": [
      "0    20\n",
      "1    21\n",
      "2    21\n",
      "3    18\n",
      "Name: Age, dtype: int64\n"
     ]
    }
   ],
   "source": [
    "result = serEmplAge.apply(lambda x : 21 if x==19 else x)\n",
    "print(result)"
   ]
  },
  {
   "cell_type": "code",
   "execution_count": 13,
   "id": "e92bbced",
   "metadata": {},
   "outputs": [
    {
     "data": {
      "text/plain": [
       "array([1, 2, 3])"
      ]
     },
     "execution_count": 13,
     "metadata": {},
     "output_type": "execute_result"
    }
   ],
   "source": [
    "import numpy as np\n",
    "array1 = np.array([1,2,3])\n",
    "array1"
   ]
  },
  {
   "cell_type": "code",
   "execution_count": 14,
   "id": "aa7e5d73",
   "metadata": {},
   "outputs": [],
   "source": [
    "array2 = np.zeros((3,3))"
   ]
  },
  {
   "cell_type": "code",
   "execution_count": 15,
   "id": "176f80f9",
   "metadata": {},
   "outputs": [
    {
     "data": {
      "text/plain": [
       "array([[0., 0., 0.],\n",
       "       [0., 0., 0.],\n",
       "       [0., 0., 0.]])"
      ]
     },
     "execution_count": 15,
     "metadata": {},
     "output_type": "execute_result"
    }
   ],
   "source": [
    "array2"
   ]
  },
  {
   "cell_type": "code",
   "execution_count": 16,
   "id": "d5bef380",
   "metadata": {},
   "outputs": [
    {
     "data": {
      "text/plain": [
       "array([[1., 1., 1., 1.],\n",
       "       [1., 1., 1., 1.]])"
      ]
     },
     "execution_count": 16,
     "metadata": {},
     "output_type": "execute_result"
    }
   ],
   "source": [
    "array3 = np.ones((2,4))\n",
    "array3"
   ]
  },
  {
   "cell_type": "code",
   "execution_count": 17,
   "id": "022718ce",
   "metadata": {},
   "outputs": [
    {
     "data": {
      "text/plain": [
       "array([3, 4])"
      ]
     },
     "execution_count": 17,
     "metadata": {},
     "output_type": "execute_result"
    }
   ],
   "source": [
    "array4 = np.array((3,4))\n",
    "array4"
   ]
  },
  {
   "cell_type": "code",
   "execution_count": 18,
   "id": "eeb2eb2c",
   "metadata": {},
   "outputs": [
    {
     "ename": "AttributeError",
     "evalue": "module 'numpy.random' has no attribute 'array'",
     "output_type": "error",
     "traceback": [
      "\u001b[0;31m---------------------------------------------------------------------------\u001b[0m",
      "\u001b[0;31mAttributeError\u001b[0m                            Traceback (most recent call last)",
      "Cell \u001b[0;32mIn[18], line 1\u001b[0m\n\u001b[0;32m----> 1\u001b[0m array5 \u001b[38;5;241m=\u001b[39m np\u001b[38;5;241m.\u001b[39mrandom\u001b[38;5;241m.\u001b[39marray((\u001b[38;5;241m3\u001b[39m,\u001b[38;5;241m4\u001b[39m))\n\u001b[1;32m      2\u001b[0m array5\n",
      "\u001b[0;31mAttributeError\u001b[0m: module 'numpy.random' has no attribute 'array'"
     ]
    }
   ],
   "source": [
    "array5 = np.random.array((3,4))\n",
    "array5"
   ]
  },
  {
   "cell_type": "code",
   "execution_count": 20,
   "id": "0827d17c",
   "metadata": {},
   "outputs": [
    {
     "data": {
      "text/plain": [
       "array([[0.19713083, 0.85151076, 0.89186762, 0.98900823],\n",
       "       [0.56237226, 0.73159295, 0.3182239 , 0.76171767],\n",
       "       [0.57071621, 0.16180948, 0.01755148, 0.22447403]])"
      ]
     },
     "execution_count": 20,
     "metadata": {},
     "output_type": "execute_result"
    }
   ],
   "source": [
    "array6 = np.random.rand(3,4)\n",
    "array6"
   ]
  },
  {
   "cell_type": "code",
   "execution_count": 21,
   "id": "43ca22d6",
   "metadata": {},
   "outputs": [
    {
     "ename": "TypeError",
     "evalue": "save() missing 2 required positional arguments: 'file' and 'arr'",
     "output_type": "error",
     "traceback": [
      "\u001b[0;31m---------------------------------------------------------------------------\u001b[0m",
      "\u001b[0;31mTypeError\u001b[0m                                 Traceback (most recent call last)",
      "Cell \u001b[0;32mIn[21], line 1\u001b[0m\n\u001b[0;32m----> 1\u001b[0m np\u001b[38;5;241m.\u001b[39msave()\n",
      "File \u001b[0;32m<__array_function__ internals>:198\u001b[0m, in \u001b[0;36msave\u001b[0;34m(*args, **kwargs)\u001b[0m\n",
      "\u001b[0;31mTypeError\u001b[0m: save() missing 2 required positional arguments: 'file' and 'arr'"
     ]
    }
   ],
   "source": [
    "np.save()"
   ]
  },
  {
   "cell_type": "code",
   "execution_count": 22,
   "id": "280a2c71",
   "metadata": {},
   "outputs": [
    {
     "data": {
      "text/plain": [
       "array([[0.19713083, 0.85151076, 0.89186762],\n",
       "       [0.98900823, 0.56237226, 0.73159295],\n",
       "       [0.3182239 , 0.76171767, 0.57071621],\n",
       "       [0.16180948, 0.01755148, 0.22447403]])"
      ]
     },
     "execution_count": 22,
     "metadata": {},
     "output_type": "execute_result"
    }
   ],
   "source": [
    "array7  = np.reshape(array6,(4,3))\n",
    "array7"
   ]
  },
  {
   "cell_type": "code",
   "execution_count": 23,
   "id": "1d557954",
   "metadata": {},
   "outputs": [
    {
     "data": {
      "text/plain": [
       "(4, 3)"
      ]
     },
     "execution_count": 23,
     "metadata": {},
     "output_type": "execute_result"
    }
   ],
   "source": [
    "array7.shape\n"
   ]
  },
  {
   "cell_type": "code",
   "execution_count": 24,
   "id": "6e901724",
   "metadata": {},
   "outputs": [
    {
     "data": {
      "text/plain": [
       "array([[0.19713083, 0.98900823, 0.3182239 , 0.16180948],\n",
       "       [0.85151076, 0.56237226, 0.76171767, 0.01755148],\n",
       "       [0.89186762, 0.73159295, 0.57071621, 0.22447403]])"
      ]
     },
     "execution_count": 24,
     "metadata": {},
     "output_type": "execute_result"
    }
   ],
   "source": [
    "np.transpose(array7)"
   ]
  },
  {
   "cell_type": "code",
   "execution_count": 25,
   "id": "7daba209",
   "metadata": {},
   "outputs": [],
   "source": [
    "np.savetxt('data.txt',array7)"
   ]
  },
  {
   "cell_type": "code",
   "execution_count": 26,
   "id": "b44100b3",
   "metadata": {},
   "outputs": [],
   "source": [
    "new_data = np.loadtxt('data.txt')"
   ]
  },
  {
   "cell_type": "code",
   "execution_count": 27,
   "id": "8025112f",
   "metadata": {},
   "outputs": [
    {
     "data": {
      "text/plain": [
       "array([[0.19713083, 0.85151076, 0.89186762],\n",
       "       [0.98900823, 0.56237226, 0.73159295],\n",
       "       [0.3182239 , 0.76171767, 0.57071621],\n",
       "       [0.16180948, 0.01755148, 0.22447403]])"
      ]
     },
     "execution_count": 27,
     "metadata": {},
     "output_type": "execute_result"
    }
   ],
   "source": [
    "new_data"
   ]
  },
  {
   "cell_type": "code",
   "execution_count": 28,
   "id": "ebd7fd95",
   "metadata": {},
   "outputs": [
    {
     "name": "stdout",
     "output_type": "stream",
     "text": [
      "[[0.]\n",
      " [0.]]\n"
     ]
    }
   ],
   "source": [
    "\n",
    "a = np.array([[2,1],[4,-5]])\n",
    "b = np.array([[5],[7]])\n",
    "from scipy import linalg\n",
    "x = linalg.solve(a,b)\n",
    "print(a.dot(x)-b)"
   ]
  },
  {
   "cell_type": "code",
   "execution_count": 29,
   "id": "c84577fd",
   "metadata": {},
   "outputs": [
    {
     "name": "stdout",
     "output_type": "stream",
     "text": [
      "[[ 0.0000000e+00]\n",
      " [-4.4408921e-16]]\n"
     ]
    }
   ],
   "source": [
    "a = np.array([[2,1],[1,-3]])\n",
    "b = np.array([[5],[-2]])\n",
    "from scipy import linalg\n",
    "x = linalg.solve(a,b)\n",
    "print(a.dot(x)-b)"
   ]
  },
  {
   "cell_type": "code",
   "execution_count": 30,
   "id": "dab54465",
   "metadata": {},
   "outputs": [
    {
     "name": "stdout",
     "output_type": "stream",
     "text": [
      "[[1.85714286]\n",
      " [1.28571429]]\n"
     ]
    }
   ],
   "source": [
    "print(x)"
   ]
  },
  {
   "cell_type": "code",
   "execution_count": 31,
   "id": "9629fd12",
   "metadata": {},
   "outputs": [
    {
     "ename": "NameError",
     "evalue": "name 'y' is not defined",
     "output_type": "error",
     "traceback": [
      "\u001b[0;31m---------------------------------------------------------------------------\u001b[0m",
      "\u001b[0;31mNameError\u001b[0m                                 Traceback (most recent call last)",
      "Cell \u001b[0;32mIn[31], line 1\u001b[0m\n\u001b[0;32m----> 1\u001b[0m \u001b[38;5;28mprint\u001b[39m(y)\n",
      "\u001b[0;31mNameError\u001b[0m: name 'y' is not defined"
     ]
    }
   ],
   "source": [
    "print(y)"
   ]
  },
  {
   "cell_type": "code",
   "execution_count": 32,
   "id": "4b4311fb",
   "metadata": {
    "scrolled": true
   },
   "outputs": [
    {
     "name": "stdout",
     "output_type": "stream",
     "text": [
      "\n",
      "Options:\n",
      "a. Add a new product\n",
      "b. List all products\n",
      "c. Add a new customer\n",
      "d. List all customers\n",
      "e. Create a new sales order\n",
      "f. List all sales orders\n",
      "g. Quit the program\n",
      "Enter your choice: a\n",
      "Enter product name: Gym\n",
      "Enter product price: 16000\n",
      "Product 'Gym' added with ID 1\n",
      "\n",
      "Options:\n",
      "a. Add a new product\n",
      "b. List all products\n",
      "c. Add a new customer\n",
      "d. List all customers\n",
      "e. Create a new sales order\n",
      "f. List all sales orders\n",
      "g. Quit the program\n",
      "Enter your choice: g\n",
      "Exiting the program.\n"
     ]
    }
   ],
   "source": [
    "\n",
    "     \n",
    "class Product:\n",
    "    def __init__(self, product_id, name, price):\n",
    "        self.product_id = product_id\n",
    "        self.name = name\n",
    "        self.price = price\n",
    " \n",
    "class Customer:\n",
    "    def __init__(self, customer_id, name, email):\n",
    "        self.customer_id = customer_id\n",
    "        self.name = name\n",
    "        self.email = email\n",
    " \n",
    "class SalesOrder:\n",
    "    def __init__(self, order_id, customer, products):\n",
    "        self.order_id = order_id\n",
    "        self.customer = customer\n",
    "        self.products = products\n",
    " \n",
    "class SalesManagementSystem:\n",
    "    def __init__(self):\n",
    "        self.products = []\n",
    "        self.customers = []\n",
    "        self.sales_orders = []\n",
    "        self.next_product_id = 1\n",
    "        self.next_customer_id = 1\n",
    "        self.next_order_id = 1\n",
    " \n",
    "    def add_product(self, name, price):\n",
    "        product = Product(self.next_product_id, name, price)\n",
    "        self.products.append(product)\n",
    "        self.next_product_id += 1\n",
    "        print(f\"Product '{name}' added with ID {product.product_id}\")\n",
    " \n",
    "    def list_products(self):\n",
    "        print(\"List of Products:\")\n",
    "        for product in self.products:\n",
    "            print(f\"ID: {product.product_id}, Name: {product.name}, Price: {product.price}\")\n",
    " \n",
    "    def add_customer(self, name, email):\n",
    "        customer = Customer(self.next_customer_id, name, email)\n",
    "        self.customers.append(customer)\n",
    "        self.next_customer_id += 1\n",
    "        print(f\"Customer '{name}' added with ID {customer.customer_id}\")\n",
    " \n",
    "    def list_customers(self):\n",
    "        print(\"List of Customers:\")\n",
    "        for customer in self.customers:\n",
    "            print(f\"ID: {customer.customer_id}, Name: {customer.name}, Email: {customer.email}\")\n",
    " \n",
    "    def create_sales_order(self, customer_id, product_ids):\n",
    "        customer = next((c for c in self.customers if c.customer_id == customer_id), None)\n",
    "        if customer:\n",
    "            products = [p for p in self.products if p.product_id in product_ids]\n",
    "            if products:\n",
    "                order = SalesOrder(self.next_order_id, customer, products)\n",
    "                self.sales_orders.append(order)\n",
    "                self.next_order_id += 1\n",
    "                print(f\"Sales order created with ID {order.order_id}\")\n",
    "            else:\n",
    "                print(\"Invalid product IDs.\")\n",
    "        else:\n",
    "            print(\"Invalid customer ID.\")\n",
    " \n",
    "    def list_sales_orders(self):\n",
    "        print(\"List of Sales Orders:\")\n",
    "        for order in self.sales_orders:\n",
    "            print(f\"Order ID: {order.order_id}, Customer: {order.customer.name}\")\n",
    "            print(\"Products:\")\n",
    "            for product in order.products:\n",
    "                print(f\"  - {product.name}: {product.price}\")\n",
    " \n",
    "if __name__ == \"__main__\":\n",
    "    system = SalesManagementSystem()\n",
    "    while True:\n",
    "        print(\"\\nOptions:\")\n",
    "        print(\"a. Add a new product\")\n",
    "        print(\"b. List all products\")\n",
    "        print(\"c. Add a new customer\")\n",
    "        print(\"d. List all customers\")\n",
    "        print(\"e. Create a new sales order\")\n",
    "        print(\"f. List all sales orders\")\n",
    "        print(\"g. Quit the program\")\n",
    "        choice = input(\"Enter your choice: \").lower()\n",
    " \n",
    "        if choice == 'a':\n",
    "            name = input(\"Enter product name: \")\n",
    "            price = float(input(\"Enter product price: \"))\n",
    "            system.add_product(name, price)\n",
    "        elif choice == 'b':\n",
    "            system.list_products()\n",
    "        elif choice == 'c':\n",
    "            name = input(\"Enter customer name: \")\n",
    "            email = input(\"Enter customer email: \")\n",
    "            system.add_customer(name, email)\n",
    "        elif choice == 'd':\n",
    "            system.list_customers()\n",
    "        elif choice == 'e':\n",
    "            customer_id = int(input(\"Enter customer ID for the sales order: \"))\n",
    "            product_ids = [int(id) for id in input(\"Enter product IDs separated by spaces: \").split()]\n",
    "            system.create_sales_order(customer_id, product_ids)\n",
    "        elif choice == 'f':\n",
    "            system.list_sales_orders()\n",
    "        elif choice == 'g':\n",
    "            print(\"Exiting the program.\")\n",
    "            break\n",
    "        else:\n",
    "            print(\"Invalid choice. Please select a valid option.\")"
   ]
  },
  {
   "cell_type": "code",
   "execution_count": null,
   "id": "67dac322",
   "metadata": {},
   "outputs": [],
   "source": []
  }
 ],
 "metadata": {
  "kernelspec": {
   "display_name": "Python 3 (ipykernel)",
   "language": "python",
   "name": "python3"
  },
  "language_info": {
   "codemirror_mode": {
    "name": "ipython",
    "version": 3
   },
   "file_extension": ".py",
   "mimetype": "text/x-python",
   "name": "python",
   "nbconvert_exporter": "python",
   "pygments_lexer": "ipython3",
   "version": "3.11.4"
  }
 },
 "nbformat": 4,
 "nbformat_minor": 5
}
